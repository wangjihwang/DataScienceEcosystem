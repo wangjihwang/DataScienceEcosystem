{
 "cells": [
  {
   "cell_type": "markdown",
   "id": "e7b32f77-eded-4c0b-ab39-e0981e96c612",
   "metadata": {},
   "source": [
    "# Data Science Tools and Ecosystem"
   ]
  },
  {
   "cell_type": "markdown",
   "id": "67f66244-6923-496e-88b2-907109b9878e",
   "metadata": {},
   "source": [
    "In this notebook, Data Science Tools and Ecosystem are summarized."
   ]
  },
  {
   "cell_type": "markdown",
   "id": "597d81be-4e1d-4b83-8f9d-e9c529a4c793",
   "metadata": {},
   "source": [
    "**Objectives**\n",
    "* List popular languages for Data Science\n",
    "* Familiarize with Data Science tools\n",
    "* List Data Science libraries"
   ]
  },
  {
   "cell_type": "markdown",
   "id": "662031e0-c654-411d-b9d0-1cc7006b59c6",
   "metadata": {
    "tags": []
   },
   "source": [
    "Some of the popular languages that Data Scientists use are\n",
    "1. Julia\n",
    "2. Python\n",
    "3. R"
   ]
  },
  {
   "cell_type": "markdown",
   "id": "6ce7441c-db23-4c22-a22c-15d3c11f7a47",
   "metadata": {},
   "source": [
    "Some of the commonly used libraries used by Data Scientists include:\n",
    "* NumPy (Python)\n",
    "* Pandas (Python)\n",
    "* SciPy (Python)\n",
    "* dplyr (R)\n",
    "* ggplot2 (R)"
   ]
  },
  {
   "cell_type": "markdown",
   "id": "9a01bc75-ca77-4d2c-aa15-d24890882d78",
   "metadata": {
    "tags": []
   },
   "source": [
    "| Data Science Tools |\n",
    "| --- |\n",
    "| JupyterLab |\n",
    "| Jupyter Notebook|\n",
    "| R Studio|"
   ]
  },
  {
   "cell_type": "markdown",
   "id": "aaf445b7-b073-4805-bbb8-2e52c1a13f6b",
   "metadata": {},
   "source": [
    "### Below are a few examples of evaluating arithmetic expressions in Python"
   ]
  },
  {
   "cell_type": "code",
   "execution_count": 6,
   "id": "60d06033-d13b-4436-bf27-3a9da6ac253c",
   "metadata": {
    "tags": []
   },
   "outputs": [
    {
     "data": {
      "text/plain": [
       "17"
      ]
     },
     "execution_count": 6,
     "metadata": {},
     "output_type": "execute_result"
    }
   ],
   "source": [
    "# This is a simple arithmetic expression to multiply and then add integers.\n",
    "(3*4)+5"
   ]
  },
  {
   "cell_type": "code",
   "execution_count": 7,
   "id": "e3e92f38-9310-4784-9fb0-6d8504feac98",
   "metadata": {
    "tags": []
   },
   "outputs": [
    {
     "data": {
      "text/plain": [
       "3.3333333333333335"
      ]
     },
     "execution_count": 7,
     "metadata": {},
     "output_type": "execute_result"
    }
   ],
   "source": [
    "# This will convert 200 minutes to hours by dividing by 60.\n",
    "200/60"
   ]
  },
  {
   "cell_type": "markdown",
   "id": "053ca100-2fc9-4238-a3ef-3cf01f53a8a6",
   "metadata": {},
   "source": [
    "## Author\n",
    "JW Aaron Wang"
   ]
  },
  {
   "cell_type": "code",
   "execution_count": null,
   "id": "eacaac27-2a5f-4c91-8b67-f50bc9643381",
   "metadata": {},
   "outputs": [],
   "source": []
  }
 ],
 "metadata": {
  "kernelspec": {
   "display_name": "Python 3 (ipykernel)",
   "language": "python",
   "name": "python3"
  },
  "language_info": {
   "codemirror_mode": {
    "name": "ipython",
    "version": 3
   },
   "file_extension": ".py",
   "mimetype": "text/x-python",
   "name": "python",
   "nbconvert_exporter": "python",
   "pygments_lexer": "ipython3",
   "version": "3.11.3"
  }
 },
 "nbformat": 4,
 "nbformat_minor": 5
}
